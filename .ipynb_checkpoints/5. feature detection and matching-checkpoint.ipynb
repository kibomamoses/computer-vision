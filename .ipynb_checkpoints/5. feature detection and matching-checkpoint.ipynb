{
 "cells": [
  {
   "cell_type": "code",
   "execution_count": null,
   "id": "0129635b",
   "metadata": {},
   "outputs": [],
   "source": [
    "feature detection and matching"
   ]
  },
  {
   "cell_type": "code",
   "execution_count": null,
   "id": "f388c82a",
   "metadata": {},
   "outputs": [],
   "source": []
  }
 ],
 "metadata": {
  "kernelspec": {
   "display_name": "Python 3",
   "language": "python",
   "name": "python3"
  }
 },
 "nbformat": 4,
 "nbformat_minor": 5
}
